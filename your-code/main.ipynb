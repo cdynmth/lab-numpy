{
 "cells": [
  {
   "cell_type": "markdown",
   "metadata": {},
   "source": [
    "# Intrduction to NumPy\n",
    "\n",
    "\n",
    "#### 1. Import NumPy under the name np."
   ]
  },
  {
   "cell_type": "code",
   "execution_count": 42,
   "metadata": {},
   "outputs": [],
   "source": [
    "import numpy as np"
   ]
  },
  {
   "cell_type": "markdown",
   "metadata": {},
   "source": [
    "#### 2. Print your NumPy version."
   ]
  },
  {
   "cell_type": "code",
   "execution_count": 43,
   "metadata": {},
   "outputs": [
    {
     "name": "stdout",
     "output_type": "stream",
     "text": [
      "1.20.3\n"
     ]
    }
   ],
   "source": [
    "print(np.__version__)"
   ]
  },
  {
   "cell_type": "markdown",
   "metadata": {},
   "source": [
    "#### 3. Generate a 2x3x5 3-dimensional array with random values. Assign the array to variable *a*.\n",
    "**Challenge**: there are at least three easy ways that use numpy to generate random arrays. How many ways can you find?"
   ]
  },
  {
   "cell_type": "code",
   "execution_count": 44,
   "metadata": {},
   "outputs": [
    {
     "name": "stdout",
     "output_type": "stream",
     "text": [
      "[[[-5.98528545e-01  1.27323564e+00  1.48780261e+00 -1.55303313e+00\n",
      "    3.04247129e-01]\n",
      "  [-8.26034991e-02  7.72937245e-01 -1.99876921e+00  1.15673404e+00\n",
      "   -5.13813609e-01]\n",
      "  [-7.56959099e-01 -9.49772330e-02  1.16016112e+00  7.56709213e-01\n",
      "    1.97531021e+00]]\n",
      "\n",
      " [[ 7.41702959e-01 -3.67473141e-02  1.20227890e+00 -5.03278399e-02\n",
      "   -1.25375243e-01]\n",
      "  [ 9.33088327e-01  1.96792052e-03 -4.64391089e-01 -9.19936528e-01\n",
      "   -1.24471197e-01]\n",
      "  [ 9.86242200e-01  1.69247051e+00 -1.43567455e+00 -6.29594489e-02\n",
      "   -1.49684878e-01]]]\n"
     ]
    }
   ],
   "source": [
    "a =  np.random.randn(2,3,5)\n",
    "print(a)"
   ]
  },
  {
   "cell_type": "code",
   "execution_count": 45,
   "metadata": {},
   "outputs": [],
   "source": [
    "# Method 2"
   ]
  },
  {
   "cell_type": "code",
   "execution_count": 46,
   "metadata": {},
   "outputs": [],
   "source": [
    "# Method 3"
   ]
  },
  {
   "cell_type": "markdown",
   "metadata": {},
   "source": [
    "#### 4. Print *a*.\n"
   ]
  },
  {
   "cell_type": "code",
   "execution_count": 47,
   "metadata": {},
   "outputs": [
    {
     "name": "stdout",
     "output_type": "stream",
     "text": [
      "[[[-5.98528545e-01  1.27323564e+00  1.48780261e+00 -1.55303313e+00\n",
      "    3.04247129e-01]\n",
      "  [-8.26034991e-02  7.72937245e-01 -1.99876921e+00  1.15673404e+00\n",
      "   -5.13813609e-01]\n",
      "  [-7.56959099e-01 -9.49772330e-02  1.16016112e+00  7.56709213e-01\n",
      "    1.97531021e+00]]\n",
      "\n",
      " [[ 7.41702959e-01 -3.67473141e-02  1.20227890e+00 -5.03278399e-02\n",
      "   -1.25375243e-01]\n",
      "  [ 9.33088327e-01  1.96792052e-03 -4.64391089e-01 -9.19936528e-01\n",
      "   -1.24471197e-01]\n",
      "  [ 9.86242200e-01  1.69247051e+00 -1.43567455e+00 -6.29594489e-02\n",
      "   -1.49684878e-01]]]\n"
     ]
    }
   ],
   "source": [
    "print(a)"
   ]
  },
  {
   "cell_type": "markdown",
   "metadata": {},
   "source": [
    "#### 5. Create a 5x2x3 3-dimensional array with all values equaling 1. Assign the array to variable *b*."
   ]
  },
  {
   "cell_type": "code",
   "execution_count": 48,
   "metadata": {},
   "outputs": [],
   "source": [
    "b = np.ones(shape = (5,2,3), dtype = int)"
   ]
  },
  {
   "cell_type": "markdown",
   "metadata": {},
   "source": [
    "#### 6. Print *b*.\n"
   ]
  },
  {
   "cell_type": "code",
   "execution_count": 49,
   "metadata": {},
   "outputs": [
    {
     "name": "stdout",
     "output_type": "stream",
     "text": [
      "[[[1 1 1]\n",
      "  [1 1 1]]\n",
      "\n",
      " [[1 1 1]\n",
      "  [1 1 1]]\n",
      "\n",
      " [[1 1 1]\n",
      "  [1 1 1]]\n",
      "\n",
      " [[1 1 1]\n",
      "  [1 1 1]]\n",
      "\n",
      " [[1 1 1]\n",
      "  [1 1 1]]]\n"
     ]
    }
   ],
   "source": [
    "print(b)"
   ]
  },
  {
   "cell_type": "markdown",
   "metadata": {},
   "source": [
    "#### 7. Do *a* and *b* have the same size? How do you prove that in Python code?"
   ]
  },
  {
   "cell_type": "code",
   "execution_count": 50,
   "metadata": {},
   "outputs": [
    {
     "data": {
      "text/plain": [
       "True"
      ]
     },
     "execution_count": 50,
     "metadata": {},
     "output_type": "execute_result"
    }
   ],
   "source": [
    "a.size == b.size"
   ]
  },
  {
   "cell_type": "markdown",
   "metadata": {},
   "source": [
    "#### 8. Are you able to add *a* and *b*? Why or why not?\n"
   ]
  },
  {
   "cell_type": "code",
   "execution_count": 51,
   "metadata": {},
   "outputs": [
    {
     "ename": "ValueError",
     "evalue": "operands could not be broadcast together with shapes (2,3,5) (5,2,3) ",
     "output_type": "error",
     "traceback": [
      "\u001b[1;31m---------------------------------------------------------------------------\u001b[0m",
      "\u001b[1;31mValueError\u001b[0m                                Traceback (most recent call last)",
      "\u001b[1;32mc:\\Users\\cdynm\\Desktop\\Ironhack\\Labs\\lab-numpy\\your-code\\main.ipynb Cell 18\u001b[0m in \u001b[0;36m<cell line: 1>\u001b[1;34m()\u001b[0m\n\u001b[1;32m----> <a href='vscode-notebook-cell:/c%3A/Users/cdynm/Desktop/Ironhack/Labs/lab-numpy/your-code/main.ipynb#ch0000017?line=0'>1</a>\u001b[0m c \u001b[39m=\u001b[39m a \u001b[39m+\u001b[39;49m b\n\u001b[0;32m      <a href='vscode-notebook-cell:/c%3A/Users/cdynm/Desktop/Ironhack/Labs/lab-numpy/your-code/main.ipynb#ch0000017?line=1'>2</a>\u001b[0m \u001b[39mprint\u001b[39m(c)\n",
      "\u001b[1;31mValueError\u001b[0m: operands could not be broadcast together with shapes (2,3,5) (5,2,3) "
     ]
    }
   ],
   "source": [
    "c = a + b\n",
    "print(c)\n",
    "\n",
    "## No you have to tranpose to the same shape first"
   ]
  },
  {
   "cell_type": "markdown",
   "metadata": {},
   "source": [
    "#### 9. Transpose *b* so that it has the same structure of *a* (i.e. become a 2x3x5 array). Assign the transposed array to variable *c*."
   ]
  },
  {
   "cell_type": "code",
   "execution_count": 52,
   "metadata": {},
   "outputs": [
    {
     "data": {
      "text/plain": [
       "(2, 3, 5)"
      ]
     },
     "execution_count": 52,
     "metadata": {},
     "output_type": "execute_result"
    }
   ],
   "source": [
    "c = b.reshape(2,3,5)  \n",
    "c.shape"
   ]
  },
  {
   "cell_type": "markdown",
   "metadata": {},
   "source": [
    "#### 10. Try to add *a* and *c*. Now it should work. Assign the sum to variable *d*. But why does it work now?"
   ]
  },
  {
   "cell_type": "code",
   "execution_count": 53,
   "metadata": {},
   "outputs": [],
   "source": [
    "d= a+c"
   ]
  },
  {
   "cell_type": "markdown",
   "metadata": {},
   "source": [
    "#### 11. Print *a* and *d*. Notice the difference and relation of the two array in terms of the values? Explain."
   ]
  },
  {
   "cell_type": "code",
   "execution_count": 54,
   "metadata": {},
   "outputs": [
    {
     "name": "stdout",
     "output_type": "stream",
     "text": [
      "[[[-5.98528545e-01  1.27323564e+00  1.48780261e+00 -1.55303313e+00\n",
      "    3.04247129e-01]\n",
      "  [-8.26034991e-02  7.72937245e-01 -1.99876921e+00  1.15673404e+00\n",
      "   -5.13813609e-01]\n",
      "  [-7.56959099e-01 -9.49772330e-02  1.16016112e+00  7.56709213e-01\n",
      "    1.97531021e+00]]\n",
      "\n",
      " [[ 7.41702959e-01 -3.67473141e-02  1.20227890e+00 -5.03278399e-02\n",
      "   -1.25375243e-01]\n",
      "  [ 9.33088327e-01  1.96792052e-03 -4.64391089e-01 -9.19936528e-01\n",
      "   -1.24471197e-01]\n",
      "  [ 9.86242200e-01  1.69247051e+00 -1.43567455e+00 -6.29594489e-02\n",
      "   -1.49684878e-01]]]\n",
      "[[[ 0.40147145  2.27323564  2.48780261 -0.55303313  1.30424713]\n",
      "  [ 0.9173965   1.77293724 -0.99876921  2.15673404  0.48618639]\n",
      "  [ 0.2430409   0.90502277  2.16016112  1.75670921  2.97531021]]\n",
      "\n",
      " [[ 1.74170296  0.96325269  2.2022789   0.94967216  0.87462476]\n",
      "  [ 1.93308833  1.00196792  0.53560891  0.08006347  0.8755288 ]\n",
      "  [ 1.9862422   2.69247051 -0.43567455  0.93704055  0.85031512]]]\n"
     ]
    }
   ],
   "source": [
    "print(a)\n",
    "print(d)\n",
    "\n",
    "## A value of 1 was added to d"
   ]
  },
  {
   "cell_type": "markdown",
   "metadata": {},
   "source": [
    "#### 12. Multiply *a* and *c*. Assign the result to *e*."
   ]
  },
  {
   "cell_type": "code",
   "execution_count": 55,
   "metadata": {},
   "outputs": [
    {
     "name": "stdout",
     "output_type": "stream",
     "text": [
      "[[[-5.98528545e-01  1.27323564e+00  1.48780261e+00 -1.55303313e+00\n",
      "    3.04247129e-01]\n",
      "  [-8.26034991e-02  7.72937245e-01 -1.99876921e+00  1.15673404e+00\n",
      "   -5.13813609e-01]\n",
      "  [-7.56959099e-01 -9.49772330e-02  1.16016112e+00  7.56709213e-01\n",
      "    1.97531021e+00]]\n",
      "\n",
      " [[ 7.41702959e-01 -3.67473141e-02  1.20227890e+00 -5.03278399e-02\n",
      "   -1.25375243e-01]\n",
      "  [ 9.33088327e-01  1.96792052e-03 -4.64391089e-01 -9.19936528e-01\n",
      "   -1.24471197e-01]\n",
      "  [ 9.86242200e-01  1.69247051e+00 -1.43567455e+00 -6.29594489e-02\n",
      "   -1.49684878e-01]]]\n"
     ]
    }
   ],
   "source": [
    "e = a*c\n",
    "print(e)"
   ]
  },
  {
   "cell_type": "markdown",
   "metadata": {},
   "source": [
    "#### 13. Does *e* equal to *a*? Why or why not?\n"
   ]
  },
  {
   "cell_type": "code",
   "execution_count": 56,
   "metadata": {},
   "outputs": [
    {
     "data": {
      "text/plain": [
       "array([[[ True,  True,  True,  True,  True],\n",
       "        [ True,  True,  True,  True,  True],\n",
       "        [ True,  True,  True,  True,  True]],\n",
       "\n",
       "       [[ True,  True,  True,  True,  True],\n",
       "        [ True,  True,  True,  True,  True],\n",
       "        [ True,  True,  True,  True,  True]]])"
      ]
     },
     "execution_count": 56,
     "metadata": {},
     "output_type": "execute_result"
    }
   ],
   "source": [
    "e == a"
   ]
  },
  {
   "cell_type": "markdown",
   "metadata": {},
   "source": [
    "#### 14. Identify the max, min, and mean values in *d*. Assign those values to variables *d_max*, *d_min* and *d_mean*."
   ]
  },
  {
   "cell_type": "code",
   "execution_count": 57,
   "metadata": {},
   "outputs": [
    {
     "name": "stdout",
     "output_type": "stream",
     "text": [
      "2.9753102090156647\n",
      "-0.9987692138798125\n",
      "1.1825545203492815\n"
     ]
    }
   ],
   "source": [
    "d_max = d.max()\n",
    "\n",
    "d_min = d.min()\n",
    "\n",
    "d_mean = d.mean()\n",
    "\n",
    "print(d_max)\n",
    "print(d_min)\n",
    "print(d_mean)"
   ]
  },
  {
   "cell_type": "markdown",
   "metadata": {},
   "source": [
    "#### 15. Now we want to label the values in *d*. First create an empty array *f* with the same shape (i.e. 2x3x5) as *d* using `np.empty`.\n"
   ]
  },
  {
   "cell_type": "code",
   "execution_count": 63,
   "metadata": {},
   "outputs": [
    {
     "data": {
      "text/plain": [
       "array([[[         0,          0,          0,          0,          0],\n",
       "        [         0,          0,          0,          0,          0],\n",
       "        [         0,          0,          0,          0,          0]],\n",
       "\n",
       "       [[         0,          0,          0,          0,          0],\n",
       "        [         0,          0,          0,          0,          0],\n",
       "        [         0,          0,          0, 1528838690,      32093]]])"
      ]
     },
     "execution_count": 63,
     "metadata": {},
     "output_type": "execute_result"
    }
   ],
   "source": [
    "f = np.empty([2,3,5], dtype=int)\n",
    "\n",
    "\n",
    "\n",
    "f"
   ]
  },
  {
   "cell_type": "markdown",
   "metadata": {},
   "source": [
    "#### 16. Populate the values in *f*. \n",
    "\n",
    "For each value in *d*, if it's larger than *d_min* but smaller than *d_mean*, assign 25 to the corresponding value in *f*. If a value in *d* is larger than *d_mean* but smaller than *d_max*, assign 75 to the corresponding value in *f*. If a value equals to *d_mean*, assign 50 to the corresponding value in *f*. Assign 0 to the corresponding value(s) in *f* for *d_min* in *d*. Assign 100 to the corresponding value(s) in *f* for *d_max* in *d*. In the end, f should have only the following values: 0, 25, 50, 75, and 100.\n",
    "\n",
    "**Note**: you don't have to use Numpy in this question."
   ]
  },
  {
   "cell_type": "code",
   "execution_count": 67,
   "metadata": {},
   "outputs": [
    {
     "ename": "ValueError",
     "evalue": "The truth value of an array with more than one element is ambiguous. Use a.any() or a.all()",
     "output_type": "error",
     "traceback": [
      "\u001b[1;31m---------------------------------------------------------------------------\u001b[0m",
      "\u001b[1;31mValueError\u001b[0m                                Traceback (most recent call last)",
      "\u001b[1;32mc:\\Users\\cdynm\\Desktop\\Ironhack\\Labs\\lab-numpy\\your-code\\main.ipynb Cell 34\u001b[0m in \u001b[0;36m<cell line: 7>\u001b[1;34m()\u001b[0m\n\u001b[0;32m      <a href='vscode-notebook-cell:/c%3A/Users/cdynm/Desktop/Ironhack/Labs/lab-numpy/your-code/main.ipynb#ch0000033?line=4'>5</a>\u001b[0m f \u001b[39m=\u001b[39m []\n\u001b[0;32m      <a href='vscode-notebook-cell:/c%3A/Users/cdynm/Desktop/Ironhack/Labs/lab-numpy/your-code/main.ipynb#ch0000033?line=6'>7</a>\u001b[0m \u001b[39mfor\u001b[39;00m i \u001b[39min\u001b[39;00m \u001b[39mlist\u001b[39m(np\u001b[39m.\u001b[39mrandom\u001b[39m.\u001b[39mrandint(\u001b[39m0\u001b[39m,\u001b[39m100\u001b[39m,(\u001b[39m2\u001b[39m,\u001b[39m3\u001b[39m,\u001b[39m5\u001b[39m))):\n\u001b[1;32m----> <a href='vscode-notebook-cell:/c%3A/Users/cdynm/Desktop/Ironhack/Labs/lab-numpy/your-code/main.ipynb#ch0000033?line=8'>9</a>\u001b[0m         \u001b[39mif\u001b[39;00m (i \u001b[39m>\u001b[39m d_min) \u001b[39m&\u001b[39m (i \u001b[39m<\u001b[39m d_mean):\n\u001b[0;32m     <a href='vscode-notebook-cell:/c%3A/Users/cdynm/Desktop/Ironhack/Labs/lab-numpy/your-code/main.ipynb#ch0000033?line=9'>10</a>\u001b[0m             f \u001b[39m+\u001b[39m\u001b[39m=\u001b[39m [\u001b[39m25\u001b[39m]\n\u001b[0;32m     <a href='vscode-notebook-cell:/c%3A/Users/cdynm/Desktop/Ironhack/Labs/lab-numpy/your-code/main.ipynb#ch0000033?line=10'>11</a>\u001b[0m         \u001b[39mif\u001b[39;00m (i \u001b[39m>\u001b[39m d_mean) \u001b[39m&\u001b[39m (i \u001b[39m<\u001b[39m d_max):\n",
      "\u001b[1;31mValueError\u001b[0m: The truth value of an array with more than one element is ambiguous. Use a.any() or a.all()"
     ]
    }
   ],
   "source": [
    "f= list(np.random.randint(0,100,(2,3,5)))\n",
    "\n",
    "f\n",
    "\n"
   ]
  },
  {
   "cell_type": "markdown",
   "metadata": {},
   "source": [
    "#### 17. Print *d* and *f*. Do you have your expected *f*?\n",
    "For instance, if your *d* is:\n",
    "```python\n",
    "[[[1.85836099, 1.67064465, 1.62576044, 1.40243961, 1.88454931],\n",
    "[1.75354326, 1.69403643, 1.36729252, 1.61415071, 1.12104981],\n",
    "[1.72201435, 1.1862918 , 1.87078449, 1.7726778 , 1.88180042]],\n",
    "[[1.44747908, 1.31673383, 1.02000951, 1.52218947, 1.97066381],\n",
    "[1.79129243, 1.74983003, 1.96028037, 1.85166831, 1.65450881],\n",
    "[1.18068344, 1.9587381 , 1.00656599, 1.93402165, 1.73514584]]]\n",
    "```\n",
    "Your *f* should be:\n",
    "```python\n",
    "[[[ 75.,  75.,  75.,  25.,  75.],\n",
    "[ 75.,  75.,  25.,  25.,  25.],\n",
    "[ 75.,  25.,  75.,  75.,  75.]],\n",
    "[[ 25.,  25.,  25.,  25., 100.],\n",
    "[ 75.,  75.,  75.,  75.,  75.],\n",
    "[ 25.,  75.,   0.,  75.,  75.]]]\n",
    "```"
   ]
  },
  {
   "cell_type": "code",
   "execution_count": 66,
   "metadata": {},
   "outputs": [
    {
     "ename": "TypeError",
     "evalue": "only integer scalar arrays can be converted to a scalar index",
     "output_type": "error",
     "traceback": [
      "\u001b[1;31m---------------------------------------------------------------------------\u001b[0m",
      "\u001b[1;31mTypeError\u001b[0m                                 Traceback (most recent call last)",
      "\u001b[1;32mc:\\Users\\cdynm\\Desktop\\Ironhack\\Labs\\lab-numpy\\your-code\\main.ipynb Cell 36\u001b[0m in \u001b[0;36m<cell line: 8>\u001b[1;34m()\u001b[0m\n\u001b[0;32m      <a href='vscode-notebook-cell:/c%3A/Users/cdynm/Desktop/Ironhack/Labs/lab-numpy/your-code/main.ipynb#ch0000035?line=3'>4</a>\u001b[0m cond4 \u001b[39m=\u001b[39m d \u001b[39m==\u001b[39m d_min\n\u001b[0;32m      <a href='vscode-notebook-cell:/c%3A/Users/cdynm/Desktop/Ironhack/Labs/lab-numpy/your-code/main.ipynb#ch0000035?line=4'>5</a>\u001b[0m cond5 \u001b[39m=\u001b[39m d \u001b[39m==\u001b[39m d_max\n\u001b[1;32m----> <a href='vscode-notebook-cell:/c%3A/Users/cdynm/Desktop/Ironhack/Labs/lab-numpy/your-code/main.ipynb#ch0000035?line=7'>8</a>\u001b[0m f[cond1] \u001b[39m=\u001b[39m \u001b[39m25\u001b[39m\n\u001b[0;32m      <a href='vscode-notebook-cell:/c%3A/Users/cdynm/Desktop/Ironhack/Labs/lab-numpy/your-code/main.ipynb#ch0000035?line=8'>9</a>\u001b[0m f[cond2] \u001b[39m=\u001b[39m \u001b[39m75\u001b[39m\n\u001b[0;32m     <a href='vscode-notebook-cell:/c%3A/Users/cdynm/Desktop/Ironhack/Labs/lab-numpy/your-code/main.ipynb#ch0000035?line=9'>10</a>\u001b[0m f[cond3] \u001b[39m=\u001b[39m \u001b[39m50\u001b[39m\n",
      "\u001b[1;31mTypeError\u001b[0m: only integer scalar arrays can be converted to a scalar index"
     ]
    }
   ],
   "source": [
    "\n"
   ]
  },
  {
   "cell_type": "markdown",
   "metadata": {},
   "source": [
    "#### 18. Bonus question: instead of using numbers (i.e. 0, 25, 50, 75, and 100), use string values  (\"A\", \"B\", \"C\", \"D\", and \"E\") to label the array elements. For the example above, the expected result is:\n",
    "\n",
    "```python\n",
    "[[[ 'D',  'D',  'D',  'B',  'D'],\n",
    "[ 'D',  'D',  'B',  'B',  'B'],\n",
    "[ 'D',  'B',  'D',  'D',  'D']],\n",
    "[[ 'B',  'B',  'B',  'B',  'E'],\n",
    "[ 'D',  'D',  'D',  'D',  'D'],\n",
    "[ 'B',  'D',   'A',  'D', 'D']]]\n",
    "```\n",
    "**Note**: you don't have to use Numpy in this question."
   ]
  },
  {
   "cell_type": "code",
   "execution_count": null,
   "metadata": {},
   "outputs": [],
   "source": [
    "# your code here"
   ]
  }
 ],
 "metadata": {
  "kernelspec": {
   "display_name": "Python 3.9.13 ('julyiron')",
   "language": "python",
   "name": "python3"
  },
  "language_info": {
   "codemirror_mode": {
    "name": "ipython",
    "version": 3
   },
   "file_extension": ".py",
   "mimetype": "text/x-python",
   "name": "python",
   "nbconvert_exporter": "python",
   "pygments_lexer": "ipython3",
   "version": "3.9.13"
  },
  "vscode": {
   "interpreter": {
    "hash": "5ac963ea2298d630011d42358204cf5e2588a551b64dac2d2c50b491d97aa587"
   }
  }
 },
 "nbformat": 4,
 "nbformat_minor": 2
}
